{
 "cells": [
  {
   "cell_type": "code",
   "execution_count": null,
   "metadata": {},
   "outputs": [],
   "source": [
    "dbcfile_path = \"PER_2021.dbc\"\n",
    "logfile_path = \".\\logs\\candump-2021-05-08_170817.log\""
   ]
  },
  {
   "cell_type": "code",
   "execution_count": null,
   "metadata": {},
   "outputs": [],
   "source": [
    "import sys, re, pandas as pd\n",
    "import cantools\n",
    "import matplotlib.pyplot as plt\n",
    "from IPython.display import display, HTML\n",
    "import ipywidgets as widgets\n",
    "\n",
    "from parse_candump import candump_to_series"
   ]
  },
  {
   "cell_type": "code",
   "execution_count": null,
   "metadata": {},
   "outputs": [],
   "source": [
    "\n",
    "all_signals = candump_to_series(dbcfile_path, logfile_path)\n",
    "\n",
    "\n",
    "@widgets.interact(signal_name=all_signals.keys())\n",
    "def show_signal_graph(signal_name=None):\n",
    "    if not signal_name:\n",
    "        return\n",
    "    signal = all_signals[signal_name]\n",
    "    fig, ax = plt.subplots()\n",
    "    ax.xaxis.set_ticks([])\n",
    "    ax.plot(signal.index, signal, color='C0')\n",
    "    ax.grid(True)\n",
    "    plt.show()\n"
   ]
  },
  {
   "cell_type": "code",
   "execution_count": null,
   "metadata": {},
   "outputs": [],
   "source": [
    "display(all_signals[\"Throttle_Position_A\"])"
   ]
  }
 ],
 "metadata": {
  "kernelspec": {
   "display_name": "Python 3",
   "language": "python",
   "name": "python3"
  },
  "language_info": {
   "codemirror_mode": {
    "name": "ipython",
    "version": 3
   },
   "file_extension": ".py",
   "mimetype": "text/x-python",
   "name": "python",
   "nbconvert_exporter": "python",
   "pygments_lexer": "ipython3",
   "version": "3.9.1"
  }
 },
 "nbformat": 4,
 "nbformat_minor": 2
}
